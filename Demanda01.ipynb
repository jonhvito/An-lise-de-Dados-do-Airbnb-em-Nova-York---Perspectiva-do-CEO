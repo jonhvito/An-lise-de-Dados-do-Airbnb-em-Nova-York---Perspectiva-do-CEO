{
  "nbformat": 4,
  "nbformat_minor": 0,
  "metadata": {
    "colab": {
      "provenance": [],
      "collapsed_sections": [
        "MF2VbLe6IeGG",
        "qLMAxkTvH14O",
        "_WTzACryIv7f"
      ]
    },
    "kernelspec": {
      "name": "python3",
      "display_name": "Python 3"
    },
    "language_info": {
      "name": "python"
    }
  },
  "cells": [
    {
      "cell_type": "markdown",
      "source": [
        "#**Esse projeto simula uma demananda da empresa Airbnb**\n",
        "\n",
        "As perguntas do CEO\n",
        "1. Qual o valor médio do aluguel na cidade de Nova York?\n",
        "2. Quais os nomes das regiões que existem na cidade de Nova York?\n",
        "3. Qual o valor do aluguel diário mais caro da cidade de Nova York?\n",
        "\n",
        "Depois de receber essa demanda do CEO, eu faço os processos abaixo com os dados recebidos."
      ],
      "metadata": {
        "id": "BKkCvYsLc1zP"
      }
    },
    {
      "cell_type": "markdown",
      "source": [
        "# **Importações**"
      ],
      "metadata": {
        "id": "MF2VbLe6IeGG"
      }
    },
    {
      "cell_type": "code",
      "execution_count": 2,
      "metadata": {
        "id": "BprqlNwJA0Iy",
        "colab": {
          "base_uri": "https://localhost:8080/"
        },
        "outputId": "3cc92fbb-28f6-4608-e2c8-267d41b3a9be"
      },
      "outputs": [
        {
          "output_type": "stream",
          "name": "stdout",
          "text": [
            "Mounted at /content/drive\n"
          ]
        }
      ],
      "source": [
        "##**O ARQUIVO CSV É DE SUMA IMPORTÂNCIA, ALTERE O CAMINHO DO ARQUIVO DE ACORDO COM O AMBIENTE DE EXECUÇÃO**##\n",
        "\n",
        "import pandas as pd\n",
        "import numpy as np\n",
        "from google.colab import drive\n",
        "\n",
        "drive.mount('/content/drive')\n",
        "\n",
        "#altere o caminho de acordo com seu ambiente de execução\n",
        "arquivo_dados = '/content/drive/My Drive/python data science/AB_NYC_2019.csv'\n",
        "\n",
        "#cria um DataFrame com o arquivo\n",
        "data = pd.read_csv(arquivo_dados)"
      ]
    },
    {
      "cell_type": "markdown",
      "source": [
        "# **Tasks**"
      ],
      "metadata": {
        "id": "qLMAxkTvH14O"
      }
    },
    {
      "cell_type": "code",
      "source": [
        "# Seleciona e armazena a coluna que tem os preços\n",
        "coluna = 'price'  # Define a coluna de interesse como 'price'\n",
        "\n",
        "\n",
        "# Usa a função loc do pandas para selecionar todos os dados da coluna 'price'\n",
        "preco_aluguel = data.loc[:, coluna]  # Armazena todos os valores da coluna 'price' na variável preco_aluguel\n",
        "\n",
        "\n",
        "# Calcula a média dos preços de aluguel usando a função mean do numpy\n",
        "preco_medio = np.mean(preco_aluguel)  # Calcula a média dos valores em preco_aluguel e armazena o resultado na variável preco_medio\n",
        "\n",
        "\n",
        "# Seleciona e armazena a coluna 'neighbourhood_group'\n",
        "regiao = data.loc[:, 'neighbourhood_group']  # Armazena todos os valores da coluna 'neighbourhood_group' na variável regiao\n",
        "\n",
        "\n",
        "# Usa a função unique do pandas para obter os valores únicos na coluna 'neighbourhood_group'\n",
        "nome_regiao = pd.unique(regiao)  # Armazena os valores únicos em regiao na variável nome_regiao\n",
        "\n",
        "\n",
        "# Calcula o valor máximo dos preços de aluguel usando a função max do numpy\n",
        "aluguel_caro = np.max(preco_aluguel)  # Armazena o valor máximo em preco_aluguel na variável aluguel_caro"
      ],
      "metadata": {
        "id": "4eDzlK0sCnP0"
      },
      "execution_count": 3,
      "outputs": []
    },
    {
      "cell_type": "markdown",
      "source": [
        "## Printa o resultado da task"
      ],
      "metadata": {
        "id": "_WTzACryIv7f"
      }
    },
    {
      "cell_type": "code",
      "source": [
        "print(f\"Com isso eu chego a conclusão de que o preço medio do aluguel é de {preco_medio:.2f}, \\\n",
        "\\n Os nomes das regiões {nome_regiao} \\\n",
        "\\n o valor do aluguel diário mais caro da cidade de Nova York é {aluguel_caro} \")"
      ],
      "metadata": {
        "colab": {
          "base_uri": "https://localhost:8080/"
        },
        "id": "uXxfuWt8dbYo",
        "outputId": "f6ab832f-018a-45c3-d7d7-b02e1927e51e"
      },
      "execution_count": 4,
      "outputs": [
        {
          "output_type": "stream",
          "name": "stdout",
          "text": [
            "Com isso eu chego a conclusão de que o preço medio do aluguel é de 152.72, \n",
            " Os nomes das regiões ['Brooklyn' 'Manhattan' 'Queens' 'Staten Island' 'Bronx'] \n",
            " o valor do aluguel diário mais caro da cidade de Nova York é 10000 \n"
          ]
        }
      ]
    },
    {
      "cell_type": "markdown",
      "source": [
        "\n",
        "\n",
        "---\n",
        "---\n",
        "\n",
        "---\n",
        "---\n",
        "\n",
        "---\n",
        "---\n",
        "\n",
        "# **E-mail com as respostas**\n",
        "\n",
        "Olá CEO, espero que esse e-mail o encontre bem.\n",
        "Meu nome é João victor, sou Cientista de Dados do time de expansão.\n",
        "Segue abaixo as respostas das perguntas de negócio solicitadas, referente a\n",
        "*expansão de Nova York*.\n",
        "\n",
        "\n",
        "## Qual o valor médio do aluguel na cidade de Nova York?\n",
        "R: O valor médio do aluguel é de U$ 152.72\n",
        "\n",
        "\n",
        "## Quais os nomes das regiões que existem na cidade de Nova York?\n",
        "R: Brooklyn, Manhattan, Queens, Staten Island, Bronx\n",
        "\n",
        "\n",
        "## Qual o valor do aluguel diário mais caro da cidade de Nova York?\n",
        "R: O valor do aluguel diária mais cara é de U$ 10.000,00\n",
        "\n",
        "---\n",
        "---\n"
      ],
      "metadata": {
        "id": "E4oM78fVibM3"
      }
    }
  ]
}